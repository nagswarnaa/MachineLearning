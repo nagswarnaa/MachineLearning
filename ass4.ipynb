{
  "cells": [
    {
      "cell_type": "markdown",
      "metadata": {
        "id": "view-in-github",
        "colab_type": "text"
      },
      "source": [
        "<a href=\"https://colab.research.google.com/github/nagswarnaa/MachineLearning/blob/main/ass4.ipynb\" target=\"_parent\"><img src=\"https://colab.research.google.com/assets/colab-badge.svg\" alt=\"Open In Colab\"/></a>"
      ]
    },
    {
      "cell_type": "code",
      "execution_count": 87,
      "metadata": {
        "id": "MhQ9m82O9IMb"
      },
      "outputs": [],
      "source": [
        "class Layer:\n",
        "  \n",
        "    def __init__(object):\n",
        "        object.ip = None\n",
        "        object.op = None\n",
        "\n",
        "    def forward(object, data_ip):\n",
        "        raise NotImplementedError\n",
        "\n",
        "    def backward(object, error_op, alpha):\n",
        "        raise NotImplementedError"
      ]
    },
    {
      "cell_type": "markdown",
      "source": [
        "##**Implementing Linear Layer**\n"
      ],
      "metadata": {
        "id": "Ot5DW99Mlkcz"
      }
    },
    {
      "cell_type": "code",
      "execution_count": 88,
      "metadata": {
        "id": "7oVuAsVD9IMd"
      },
      "outputs": [],
      "source": [
        "\n",
        "import numpy as np\n",
        "\n",
        "class LinearLayer(Layer):\n",
        "\n",
        "    def __init__(object, len_ip, len_op):\n",
        "        object.wghts = np.random.rand(len_ip, len_op) - 0.5\n",
        "        object.bs = np.random.rand(1, len_op) - 0.5\n",
        "\n",
        "    def forward(object, ip_data):\n",
        "        object.ip = ip_data\n",
        "        object.op = np.dot(object.ip, object.wghts) + object.bs\n",
        "        return object.op\n",
        "\n",
        "    def backward(object, op_error, learning_rate):\n",
        "        ip_error = np.dot(op_error, object.wghts.T)\n",
        "        wghts_error = np.dot(object.ip.T, op_error)\n",
        "        object.wghts =object.wghts- (learning_rate * wghts_error)\n",
        "        object.bs =object.bs- (learning_rate * op_error)\n",
        "        return ip_error"
      ]
    },
    {
      "cell_type": "markdown",
      "source": [
        "##**Tangent Activation Class**\n"
      ],
      "metadata": {
        "id": "V3AKTuATlyM2"
      }
    },
    {
      "cell_type": "code",
      "execution_count": 89,
      "metadata": {
        "id": "kwNDIGbb9IMe"
      },
      "outputs": [],
      "source": [
        "class TangentActivation(Layer):\n",
        "    \n",
        "    def forward(object, ip_data):\n",
        "        object.ip = ip_data\n",
        "        object.op = np.tanh(object.ip)\n",
        "        return object.op\n",
        "\n",
        "    def backward(object, op_error, learning_rate):\n",
        "        return (1-np.tanh(object.ip)**2 )* op_error"
      ]
    },
    {
      "cell_type": "markdown",
      "source": [
        "##**Sigmoid Activation Class**"
      ],
      "metadata": {
        "id": "YhBI4AsKl2ai"
      }
    },
    {
      "cell_type": "code",
      "execution_count": 91,
      "metadata": {
        "id": "CM-pFZbP9IMe"
      },
      "outputs": [],
      "source": [
        "class SigmoidActivation(Layer):\n",
        "  \n",
        "    def forward(object, ip_data):\n",
        "        object.ip = ip_data\n",
        "        object.op =  (1/(1 + np.exp(-object.ip)))\n",
        "        return object.op\n",
        "\n",
        "    def backward(object, op_error, learning_rate):\n",
        "        return ( np.exp(-object.ip)/(1+np.exp(-object.ip)**2))* op_error"
      ]
    },
    {
      "cell_type": "markdown",
      "source": [
        "##**SoftMax Activation Class**"
      ],
      "metadata": {
        "id": "5imDplBFl6zY"
      }
    },
    {
      "cell_type": "code",
      "execution_count": 92,
      "metadata": {
        "id": "xQI-SDMW9IMe"
      },
      "outputs": [],
      "source": [
        "class SoftMaxActivation(Layer):\n",
        "  \n",
        "    def forward(object, ip_data):\n",
        "        object.ip = ip_data\n",
        "        object.op =  (np.exp(ip_data - np.max(ip_data)) / np.exp(ip_data - np.max(ip_data)).sum())\n",
        "        return object.op\n",
        "\n",
        "    def backward(object, op_error, learning_rate):\n",
        "        return ( np.exp(-object.ip)/(1+np.exp(-object.ip)**2))* op_error"
      ]
    },
    {
      "cell_type": "markdown",
      "source": [
        "##**Cross Entropy Loss and Accuracy Calculator**"
      ],
      "metadata": {
        "id": "RaUnoF8Uwd0L"
      }
    },
    {
      "cell_type": "code",
      "execution_count": 123,
      "metadata": {
        "id": "0O1VxmGH9IMf"
      },
      "outputs": [],
      "source": [
        "import numpy as np\n",
        "\n",
        "def cross_entropy_loss(pred,target):\n",
        "    return -target * np.log(pred)\n",
        "\n",
        "def cross_entropy_loss_grad(pred,target):\n",
        "        return target - pred\n",
        "\n",
        "def find_accuracy(pred,target):\n",
        "    count=0\n",
        "    for i in range(len(pred)):\n",
        "      if pred[i]==target[i]:\n",
        "        count+=1    \n",
        "    return count/len(pred)*100\n"
      ]
    },
    {
      "cell_type": "markdown",
      "source": [
        "##**Implementing Sequential Class**"
      ],
      "metadata": {
        "id": "sxTbEA12wWMR"
      }
    },
    {
      "cell_type": "code",
      "execution_count": 147,
      "metadata": {
        "id": "5vk5AKEp9IMf"
      },
      "outputs": [],
      "source": [
        "class Sequential:\n",
        "    def __init__(object):\n",
        "        object.layers = []\n",
        "\n",
        "    def appendLayer(object, layer):\n",
        "        object.layers.append(layer)\n",
        "\n",
        "    #Predicting Using Forward Propagation\n",
        "    def predict(object, ip_data):\n",
        "        result = []\n",
        "        for i in range(len(ip_data)):\n",
        "            op = ip_data[i]\n",
        "            for layer in object.layers:\n",
        "                op = layer.forward(op)\n",
        "            result.append(op)\n",
        "        return result\n",
        "\n",
        "    #Training Neural Network\n",
        "    def fit(object, x_train, y_train, epochs, learning_rate):\n",
        "        for i in range(epochs):\n",
        "            for j in range(len(x_train)):\n",
        "                #forward propagation\n",
        "                op = x_train[j]\n",
        "                for layer in object.layers:\n",
        "                    op = layer.forward(op)\n",
        "                #backward propagation\n",
        "                error = cross_entropy_loss_grad(y_train[j], op)\n",
        "                for layer in reversed(object.layers):\n",
        "                    error = layer.backward(error, learning_rate)\n",
        "\n",
        "            "
      ]
    },
    {
      "cell_type": "markdown",
      "source": [
        "##**Building Neural Network For XOR Function**"
      ],
      "metadata": {
        "id": "nqEl1boawrGO"
      }
    },
    {
      "cell_type": "code",
      "execution_count": 146,
      "metadata": {
        "colab": {
          "base_uri": "https://localhost:8080/"
        },
        "id": "DX0ecdF_9IMg",
        "outputId": "723ec276-2dce-4127-ff3f-0acd45fbb63f"
      },
      "outputs": [
        {
          "output_type": "stream",
          "name": "stdout",
          "text": [
            "Accuracy of Network with Sigmoid Function Is  33.33333333333333 %\n",
            "Accuracy of Network with Tanh Function Is  33.33333333333333 %\n"
          ]
        }
      ],
      "source": [
        "import numpy as np\n",
        "\n",
        "# Training Data \n",
        "x_train = np.array([[[0,0]], [[0,1]], [[1,0]], [[1,1]]])\n",
        "y_train = np.array([[[0]], [[1]], [[1]], [[0]]])\n",
        "\n",
        "#Using Sigmoid function\n",
        "\n",
        "#Building Network\n",
        "nnworkSigm = Sequential()\n",
        "nnworkSigm.appendLayer(LinearLayer(2, 2))\n",
        "nnworkSigm.appendLayer(SigmoidActivation())\n",
        "nnworkSigm.appendLayer(LinearLayer(2, 1))\n",
        "nnworkSigm.appendLayer(SigmoidActivation())\n",
        "\n",
        "#Fitting Network\n",
        "nnworkSigm.fit(x_train, y_train, epochs=1000, learning_rate=0.1)\n",
        "\n",
        "#Predicting\n",
        "out = nnworkSigm.predict(x_train)\n",
        "\n",
        "#Finding Output Number\n",
        "outLables=[]\n",
        "for i in range(3):\n",
        "  outLables.append(np.argmax(out[i]))\n",
        "\n",
        "#Finding Accuracy\n",
        "print(\"Accuracy of Network with Sigmoid Function Is \",find_accuracy(np.array(outLables),y_train[:]),\"%\")\n",
        "\n",
        "\n",
        "##Using Tan function\n",
        "\n",
        "#Building Network\n",
        "nnworkTan = Sequential()\n",
        "nnworkTan.appendLayer(LinearLayer(2, 3))\n",
        "nnworkTan.appendLayer(SigmoidActivation())\n",
        "nnworkTan.appendLayer(LinearLayer(3, 1))\n",
        "nnworkTan.appendLayer(SigmoidActivation())\n",
        "\n",
        "#Fitting Network\n",
        "nnworkTan.fit(x_train, y_train, epochs=1000, learning_rate=0.1)\n",
        "\n",
        "#Predicting\n",
        "out = nnworkTan.predict(x_train)\n",
        "\n",
        "#Finding Output Number\n",
        "outLables=[]\n",
        "for i in range(3):\n",
        "  outLables.append(np.argmax(out[i]))\n",
        "\n",
        "#Finding Accuracy\n",
        "print(\"Accuracy of Network with Tanh Function Is \",find_accuracy(np.array(outLables),y_train[:]),\"%\")\n"
      ]
    },
    {
      "cell_type": "markdown",
      "source": [
        "##**Building Neural Network For MNIST Dataset**"
      ],
      "metadata": {
        "id": "8L5oMHQCxI0X"
      }
    },
    {
      "cell_type": "code",
      "execution_count": 145,
      "metadata": {
        "colab": {
          "base_uri": "https://localhost:8080/"
        },
        "id": "S1iLszBE9IMi",
        "outputId": "86551a5d-a694-46cc-9759-e0a187c5c679"
      },
      "outputs": [
        {
          "output_type": "stream",
          "name": "stdout",
          "text": [
            "Accuracy of Network  Is  100.0 %\n"
          ]
        }
      ],
      "source": [
        "import numpy as np\n",
        "from keras.utils import to_categorical\n",
        "from keras.datasets import mnist\n",
        "\n",
        "#Nodes in the layers\n",
        "inp_layer=784;\n",
        "hidden1=128;\n",
        "hidden2=64;\n",
        "oup_layer=10;\n",
        "\n",
        "#Loading Dataset\n",
        "(X_train, y_train), (X_test, y_test) = mnist.load_data()\n",
        "\n",
        "#Normalizing and reshaping the training data\n",
        "X_train = X_train.reshape(X_train.shape[0], 1, inp_layer)\n",
        "X_train = (X_train/255).astype('float32')\n",
        "\n",
        "#Normalizing and reshaping the test data\n",
        "X_test = X_test.reshape(X_test.shape[0], 1, inp_layer)\n",
        "X_test = (X_test/255).astype('float32')\n",
        "\n",
        "\n",
        "#One Hard Encoding Target data\n",
        "arr = []\n",
        "for i in range(len(y_train)):\n",
        "  arr.append(to_categorical(y_train[i], num_classes=10))\n",
        "y_train = np.array(arr)\n",
        "\n",
        "\n",
        "#Adding Layers\n",
        "mnistNetwork = Sequential()\n",
        "mnistNetwork.appendLayer(LinearLayer(inp_layer,hidden1))\n",
        "mnistNetwork.appendLayer(SigmoidActivation())\n",
        "mnistNetwork.appendLayer(LinearLayer(hidden1,hidden2))\n",
        "mnistNetwork.appendLayer(SigmoidActivation())\n",
        "mnistNetwork.appendLayer(LinearLayer(hidden2,oup_layer))\n",
        "mnistNetwork.appendLayer(SigmoidActivation())\n",
        "\n",
        "#Fitting Network\n",
        "mnistNetwork.fit(X_train[:1000], y_train[:1000], epochs=5, learning_rate=0.1)\n",
        "\n",
        "#Finding Output Number\n",
        "outLables=[]\n",
        "out = mnistNetwork.predict(X_test[:1000])\n",
        "for i in range(3):\n",
        "  outLables.append(np.argmax(out[i]))\n",
        "\n",
        "#Finding Accuracy\n",
        "print(\"Accuracy of Network  Is \",find_accuracy(np.array(outLables),y_test[:1000]),\"%\")\n"
      ]
    }
  ],
  "metadata": {
    "kernelspec": {
      "display_name": "Python 3.9.13 64-bit (microsoft store)",
      "language": "python",
      "name": "python3"
    },
    "language_info": {
      "codemirror_mode": {
        "name": "ipython",
        "version": 3
      },
      "file_extension": ".py",
      "mimetype": "text/x-python",
      "name": "python",
      "nbconvert_exporter": "python",
      "pygments_lexer": "ipython3",
      "version": "3.9.13"
    },
    "orig_nbformat": 4,
    "vscode": {
      "interpreter": {
        "hash": "accdffe619291f08a2ff010477572ccf3e2886b15af7e05a7a2b450f2b84ea24"
      }
    },
    "colab": {
      "provenance": [],
      "collapsed_sections": [],
      "include_colab_link": true
    }
  },
  "nbformat": 4,
  "nbformat_minor": 0
}