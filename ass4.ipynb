{
  "cells": [
    {
      "cell_type": "markdown",
      "metadata": {
        "id": "view-in-github",
        "colab_type": "text"
      },
      "source": [
        "<a href=\"https://colab.research.google.com/github/nagswarnaa/MachineLearning/blob/main/ass4.ipynb\" target=\"_parent\"><img src=\"https://colab.research.google.com/assets/colab-badge.svg\" alt=\"Open In Colab\"/></a>"
      ]
    },
    {
      "cell_type": "code",
      "execution_count": 87,
      "metadata": {
        "id": "MhQ9m82O9IMb"
      },
      "outputs": [],
      "source": [
        "class Layer:\n",
        "    def __init__(object):\n",
        "        object.ip = None\n",
        "        object.op = None\n",
        "\n",
        "    def forward(object, data_ip):\n",
        "        raise NotImplementedError\n",
        "\n",
        "    def backward(object, error_op, alpha):\n",
        "        raise NotImplementedError"
      ]
    },
    {
      "cell_type": "markdown",
      "source": [
        "##Implementing Linear Layer\n"
      ],
      "metadata": {
        "id": "Ot5DW99Mlkcz"
      }
    },
    {
      "cell_type": "code",
      "execution_count": 88,
      "metadata": {
        "id": "7oVuAsVD9IMd"
      },
      "outputs": [],
      "source": [
        "\n",
        "import numpy as np\n",
        "\n",
        "class LinearLayer(Layer):\n",
        "\n",
        "    def __init__(object, len_ip, len_op):\n",
        "        object.wghts = np.random.rand(len_ip, len_op) - 0.5\n",
        "        object.bs = np.random.rand(1, len_op) - 0.5\n",
        "\n",
        "    def forward(object, ip_data):\n",
        "        object.ip = ip_data\n",
        "        object.op = np.dot(object.ip, object.wghts) + object.bs\n",
        "        return object.op\n",
        "\n",
        "    def backward(object, op_error, learning_rate):\n",
        "        ip_error = np.dot(op_error, object.wghts.T)\n",
        "        wghts_error = np.dot(object.ip.T, op_error)\n",
        "        object.wghts =object.wghts- (learning_rate * wghts_error)\n",
        "        object.bs =object.bs- (learning_rate * op_error)\n",
        "        return ip_error"
      ]
    },
    {
      "cell_type": "markdown",
      "source": [
        "##Tangent Activation Class\n"
      ],
      "metadata": {
        "id": "V3AKTuATlyM2"
      }
    },
    {
      "cell_type": "code",
      "execution_count": 89,
      "metadata": {
        "id": "kwNDIGbb9IMe"
      },
      "outputs": [],
      "source": [
        "class TangentActivation(Layer):\n",
        "    \n",
        "    def forward(object, ip_data):\n",
        "        object.ip = ip_data\n",
        "        object.op = np.tanh(object.ip)\n",
        "        return object.op\n",
        "\n",
        "    def backward(object, op_error, learning_rate):\n",
        "        return (1-np.tanh(object.ip)**2 )* op_error"
      ]
    },
    {
      "cell_type": "markdown",
      "source": [
        "##Sigmoid Activation Class"
      ],
      "metadata": {
        "id": "YhBI4AsKl2ai"
      }
    },
    {
      "cell_type": "code",
      "execution_count": 91,
      "metadata": {
        "id": "CM-pFZbP9IMe"
      },
      "outputs": [],
      "source": [
        "class SigmoidActivation(Layer):\n",
        "    \n",
        "    def forward(object, ip_data):\n",
        "        object.ip = ip_data\n",
        "        object.op =  (1/(1 + np.exp(-object.ip)))\n",
        "        return object.op\n",
        "\n",
        "    def backward(object, op_error, learning_rate):\n",
        "        return ( np.exp(-object.ip)/(1+np.exp(-object.ip)**2))* op_error"
      ]
    },
    {
      "cell_type": "markdown",
      "source": [
        "##SoftMax Activation Class"
      ],
      "metadata": {
        "id": "5imDplBFl6zY"
      }
    },
    {
      "cell_type": "code",
      "execution_count": 92,
      "metadata": {
        "id": "xQI-SDMW9IMe"
      },
      "outputs": [],
      "source": [
        "class SoftMaxActivation(Layer):\n",
        "    \n",
        "    def forward(object, ip_data):\n",
        "        object.ip = ip_data\n",
        "        object.op =  (np.exp(ip_data - np.max(ip_data)) / np.exp(ip_data - np.max(ip_data)).sum())\n",
        "        return object.op\n",
        "\n",
        "    def backward(object, op_error, learning_rate):\n",
        "        return ( np.exp(-object.ip)/(1+np.exp(-object.ip)**2))* op_error"
      ]
    },
    {
      "cell_type": "code",
      "execution_count": 93,
      "metadata": {
        "id": "0O1VxmGH9IMf"
      },
      "outputs": [],
      "source": [
        "import numpy as np\n",
        "\n",
        "def cross_entropy_loss(pred,target):\n",
        "    return -target * np.log(pred)\n",
        "\n",
        "def cross_entropy_loss_grad(pred,target):\n",
        "        return target - pred"
      ]
    },
    {
      "cell_type": "code",
      "execution_count": 94,
      "metadata": {
        "id": "5vk5AKEp9IMf"
      },
      "outputs": [],
      "source": [
        "class Sequential:\n",
        "    def __init__(object):\n",
        "        object.layers = []\n",
        "\n",
        "    def appendLayer(object, layer):\n",
        "        object.layers.append(layer)\n",
        "\n",
        "    #Predicting Using Forward Propagation\n",
        "    def predict(object, ip_data):\n",
        "        result = []\n",
        "        for i in range(len(ip_data)):\n",
        "            op = ip_data[i]\n",
        "            for layer in object.layers:\n",
        "                op = layer.forward(op)\n",
        "            result.append(op)\n",
        "\n",
        "        return result\n",
        "\n",
        "    #Training Neural Network\n",
        "    def fit(object, x_train, y_train, epochs, learning_rate):\n",
        "        for i in range(epochs):\n",
        "            err = 0\n",
        "            for j in range(len(x_train)):\n",
        "                # forward propagation\n",
        "                op = x_train[j]\n",
        "                for layer in object.layers:\n",
        "                    op = layer.forward(op)\n",
        "\n",
        "                # backward propagation\n",
        "                error = cross_entropy_loss_grad(y_train[j], op)\n",
        "                for layer in reversed(object.layers):\n",
        "                    error = layer.backward(error, learning_rate)\n",
        "\n",
        "            "
      ]
    },
    {
      "cell_type": "code",
      "execution_count": 95,
      "metadata": {
        "colab": {
          "base_uri": "https://localhost:8080/"
        },
        "id": "DX0ecdF_9IMg",
        "outputId": "e96926ba-1d6d-410d-9b24-653316eb06c2"
      },
      "outputs": [
        {
          "output_type": "stream",
          "name": "stdout",
          "text": [
            "[array([[0.5012875]]), array([[0.50001964]]), array([[0.50016406]]), array([[0.49892521]])]\n",
            "[array([[0.49865008]]), array([[0.50515846]]), array([[0.49580685]]), array([[0.50232822]])]\n"
          ]
        }
      ],
      "source": [
        "import numpy as np\n",
        "\n",
        "\n",
        "\n",
        "# Training Data \n",
        "x_train = np.array([[[0,0]], [[0,1]], [[1,0]], [[1,1]]])\n",
        "y_train = np.array([[[0]], [[1]], [[1]], [[0]]])\n",
        "\n",
        "# Using Sigmoid function\n",
        "\n",
        "#Building Network\n",
        "nnworkSigm = Sequential()\n",
        "nnworkSigm.appendLayer(LinearLayer(2, 2))\n",
        "nnworkSigm.appendLayer(SigmoidActivation())\n",
        "nnworkSigm.appendLayer(LinearLayer(2, 1))\n",
        "nnworkSigm.appendLayer(SigmoidActivation())\n",
        "\n",
        "#Fitting Network\n",
        "nnworkSigm.fit(x_train, y_train, epochs=1000, learning_rate=0.1)\n",
        "out = nnworkSigm.predict(x_train)\n",
        "print(out)\n",
        "\n",
        "\n",
        "# Using Tan function\n",
        "\n",
        "#Building Network\n",
        "nnworkTan = Sequential()\n",
        "nnworkTan.appendLayer(LinearLayer(2, 3))\n",
        "nnworkTan.appendLayer(SigmoidActivation())\n",
        "nnworkTan.appendLayer(LinearLayer(3, 1))\n",
        "nnworkTan.appendLayer(SigmoidActivation())\n",
        "\n",
        "#Fitting Network\n",
        "nnworkTan.fit(x_train, y_train, epochs=1000, learning_rate=0.1)\n",
        "out = nnworkTan.predict(x_train)\n",
        "print(out)\n"
      ]
    },
    {
      "cell_type": "code",
      "execution_count": 107,
      "metadata": {
        "colab": {
          "base_uri": "https://localhost:8080/"
        },
        "id": "S1iLszBE9IMi",
        "outputId": "9b00a9e5-c22e-4999-9dbb-3cf643799a99"
      },
      "outputs": [
        {
          "output_type": "stream",
          "name": "stdout",
          "text": [
            "7\n",
            "3\n",
            "1\n",
            "[7 2 1]\n"
          ]
        }
      ],
      "source": [
        "import numpy as np\n",
        "from keras.utils import to_categorical\n",
        "from keras.datasets import mnist\n",
        "\n",
        "\n",
        "\n",
        "(X_train, y_train), (X_test, y_test) = mnist.load_data()\n",
        "\n",
        "\n",
        "\n",
        "X_train = X_train.reshape(X_train.shape[0], 1, 28*28)\n",
        "X_train = X_train.astype('float32')\n",
        "X_train /= 255\n",
        "\n",
        "\n",
        "X_test = X_test.reshape(X_test.shape[0], 1, 28*28)\n",
        "X_test = X_test.astype('float32')\n",
        "X_test /= 255\n",
        "\n",
        "y_train = to_categorical(y_train)\n",
        "\n",
        "inp_layer=784;\n",
        "hidden1=128;\n",
        "hidden2=64;\n",
        "oup_layer=10;\n",
        "\n",
        "\n",
        "mnistNetwork = Sequential()\n",
        "mnistNetwork.appendLayer(LinearLayer(inp_layer,hidden1))\n",
        "mnistNetwork.appendLayer(SigmoidActivation())\n",
        "mnistNetwork.appendLayer(LinearLayer(hidden1,hidden2))\n",
        "mnistNetwork.appendLayer(SigmoidActivation())\n",
        "mnistNetwork.appendLayer(LinearLayer(hidden2,oup_layer))\n",
        "mnistNetwork.appendLayer(SigmoidActivation())\n",
        "\n",
        "mnistNetwork.fit(X_train[0:1000], y_train[0:1000], epochs=2, learning_rate=0.1)\n",
        "\n",
        "out = mnistNetwork.predict(X_test[0:3])\n",
        "for i in range(3):\n",
        "  print(np.argmax(out[i]))\n",
        "\n",
        "print(y_test[0:3])\n",
        "\n",
        "\n",
        "\n",
        "\n",
        "\n"
      ]
    },
    {
      "cell_type": "code",
      "source": [
        "temp = []\n",
        "for i in range(len(y_train)):\n",
        "  temp.append(to_categorical(y_train[i], num_classes=10))\n",
        "\n",
        "y_train = np.array(temp)\n",
        "\n",
        "temp = []\n",
        "for i in range(len(y_test)):\n",
        "  temp.append(to_categorical(y_test[i], num_classes=10))  \n",
        "   \n",
        "y_test = np.array(temp)"
      ],
      "metadata": {
        "id": "F2CHuEvD-T5v"
      },
      "execution_count": 14,
      "outputs": []
    }
  ],
  "metadata": {
    "kernelspec": {
      "display_name": "Python 3.9.13 64-bit (microsoft store)",
      "language": "python",
      "name": "python3"
    },
    "language_info": {
      "codemirror_mode": {
        "name": "ipython",
        "version": 3
      },
      "file_extension": ".py",
      "mimetype": "text/x-python",
      "name": "python",
      "nbconvert_exporter": "python",
      "pygments_lexer": "ipython3",
      "version": "3.9.13"
    },
    "orig_nbformat": 4,
    "vscode": {
      "interpreter": {
        "hash": "accdffe619291f08a2ff010477572ccf3e2886b15af7e05a7a2b450f2b84ea24"
      }
    },
    "colab": {
      "provenance": [],
      "collapsed_sections": [],
      "include_colab_link": true
    }
  },
  "nbformat": 4,
  "nbformat_minor": 0
}