{
  "nbformat": 4,
  "nbformat_minor": 0,
  "metadata": {
    "colab": {
      "provenance": [],
      "collapsed_sections": [],
      "authorship_tag": "ABX9TyORExyjtAMRfMqzAHeXplOI",
      "include_colab_link": true
    },
    "kernelspec": {
      "name": "python3",
      "display_name": "Python 3"
    },
    "language_info": {
      "name": "python"
    }
  },
  "cells": [
    {
      "cell_type": "markdown",
      "metadata": {
        "id": "view-in-github",
        "colab_type": "text"
      },
      "source": [
        "<a href=\"https://colab.research.google.com/github/nagswarnaa/MachineLearning/blob/main/LinearRegression.ipynb\" target=\"_parent\"><img src=\"https://colab.research.google.com/assets/colab-badge.svg\" alt=\"Open In Colab\"/></a>"
      ]
    },
    {
      "cell_type": "code",
      "execution_count": 1,
      "metadata": {
        "id": "qC5pucStYh8T"
      },
      "outputs": [],
      "source": [
        "import pandas as pd\n",
        "\n",
        "data=pd.read_csv(\"Iris.csv\")"
      ]
    },
    {
      "cell_type": "markdown",
      "source": [
        "Splitting the data into training and testing\n"
      ],
      "metadata": {
        "id": "AfBQeBGpPdu6"
      }
    },
    {
      "cell_type": "code",
      "source": [
        "training_data = data.sample(frac=0.9, random_state=25)\n",
        "testing_data = data.drop(training_data.index)\n",
        "m=0\n",
        "c=0"
      ],
      "metadata": {
        "id": "nNtyi549NZon"
      },
      "execution_count": 2,
      "outputs": []
    },
    {
      "cell_type": "markdown",
      "source": [
        "Finding mean of the dataset"
      ],
      "metadata": {
        "id": "LjcJrhvA9g_D"
      }
    },
    {
      "cell_type": "code",
      "source": [
        "def mean(X):\n",
        "    sum=0;\n",
        "    for i in X:\n",
        "      sum+=i;\n",
        "    return sum/len(X)"
      ],
      "metadata": {
        "id": "rf_wMQz19dkn"
      },
      "execution_count": 3,
      "outputs": []
    },
    {
      "cell_type": "markdown",
      "source": [
        "Method to find Standard Deviation"
      ],
      "metadata": {
        "id": "NPrcM3_L-Q99"
      }
    },
    {
      "cell_type": "code",
      "source": [
        "def stddev(X):\n",
        "    diff=[]\n",
        "    mn=mean(X)\n",
        "    for i in X:\n",
        "      diff.append((i-mn)**2)\n",
        "    num=sum(diff)  \n",
        "    den=len(X)-1\n",
        "    return (num/den)**0.5\n"
      ],
      "metadata": {
        "id": "-Ufq13k6-WKs"
      },
      "execution_count": 4,
      "outputs": []
    },
    {
      "cell_type": "markdown",
      "source": [
        "Applying Z-Score Normalization to the training data set"
      ],
      "metadata": {
        "id": "lNSJzdxqbGsJ"
      }
    },
    {
      "cell_type": "code",
      "source": [
        "def ZscoreNorm(X):\n",
        "  mn=0\n",
        "  stdev=0\n",
        "  mn=mean(X)\n",
        "  stdev=stddev(X)\n",
        "  normval=[]\n",
        "  for i in X:\n",
        "    normval.append((i-mn)/stdev)\n",
        "  return normval  \n"
      ],
      "metadata": {
        "id": "XgQcn_XLbFlw"
      },
      "execution_count": 10,
      "outputs": []
    },
    {
      "cell_type": "markdown",
      "source": [
        "Defining fit and predict methods\n"
      ],
      "metadata": {
        "id": "DW1ideF4PlhW"
      }
    },
    {
      "cell_type": "code",
      "source": [
        "def fit(X,Y):\n",
        "  n=len(X)\n",
        "  global m\n",
        "  global c\n",
        "  m=0\n",
        "  c=0\n",
        "  learning_rate=0.01\n",
        "  i=0\n",
        "  while i < 1000:\n",
        "    y_pred= m*X+c \n",
        "    D_m = (-2/n) * sum(X * (Y - y_pred))  \n",
        "    D_c = (-2/n) * sum(Y - y_pred)  \n",
        "    m = m - learning_rate * D_m  \n",
        "    c = c - learning_rate * D_c\n",
        "    i=i+1\n",
        " \n",
        "def predict(X,Y):\n",
        "    error=sum((Y-(m*X+c))**2)/len(X)\n",
        "    return 100-(error*100)"
      ],
      "metadata": {
        "id": "h9WbgXdINeev"
      },
      "execution_count": 6,
      "outputs": []
    },
    {
      "cell_type": "markdown",
      "source": [
        "Training and testing the model and predicting the **Petal width** using **Petal length** of **Setosa Species**\n"
      ],
      "metadata": {
        "id": "P052GltJPqEc"
      }
    },
    {
      "cell_type": "code",
      "source": [
        "\n",
        "newdf = training_data[training_data.Species == \"Iris-setosa\"]\n",
        "X=ZscoreNorm(newdf['PetalLengthCm'])\n",
        "Y=ZscoreNorm(newdf['PetalWidthCm'])\n",
        "ddfx=pd.DataFrame(X)\n",
        "ddfy=pd.DataFrame(Y)\n",
        "fit(ddfx,ddfy)\n",
        "newdf_test = testing_data[testing_data.Species == \"Iris-setosa\"]\n",
        "predict(newdf['PetalLengthCm'],newdf['PetalWidthCm'])"
      ],
      "metadata": {
        "colab": {
          "base_uri": "https://localhost:8080/"
        },
        "id": "Cniubgo8Niyb",
        "outputId": "fb385f35-670d-498b-dbeb-119b2d170e41"
      },
      "execution_count": 14,
      "outputs": [
        {
          "output_type": "execute_result",
          "data": {
            "text/plain": [
              "92.89583333333333"
            ]
          },
          "metadata": {},
          "execution_count": 14
        }
      ]
    },
    {
      "cell_type": "markdown",
      "source": [
        "Training and testing the model and predicting the **Sepal width** using **Sepal length** of **Setosa Species**"
      ],
      "metadata": {
        "id": "suRnhaqxSSMl"
      }
    },
    {
      "cell_type": "code",
      "source": [
        "newdf = training_data[training_data.Species == \"Iris-setosa\"]\n",
        "fit(newdf['SepalLengthCm'],newdf['SepalWidthCm'])\n",
        "\n",
        "newdf_test = testing_data[testing_data.Species == \"Iris-setosa\"]\n",
        "predict(newdf['SepalLengthCm'],newdf['SepalWidthCm'])"
      ],
      "metadata": {
        "colab": {
          "base_uri": "https://localhost:8080/"
        },
        "id": "YYX-V5RjSNf0",
        "outputId": "37a86204-6b83-4d28-8b31-8e56def9e304"
      },
      "execution_count": 16,
      "outputs": [
        {
          "output_type": "execute_result",
          "data": {
            "text/plain": [
              "93.3807941533859"
            ]
          },
          "metadata": {},
          "execution_count": 16
        }
      ]
    },
    {
      "cell_type": "markdown",
      "source": [
        "Training and testing the model and predicting the **Petal length** using **Petal width** of **versicolor Species**"
      ],
      "metadata": {
        "id": "QtRkOX0qQI1j"
      }
    },
    {
      "cell_type": "code",
      "source": [
        "\n",
        "newdf = training_data[training_data.Species == \"Iris-versicolor\"]\n",
        "fit(newdf['PetalWidthCm'],newdf['PetalLengthCm'])\n",
        "\n",
        "newdf_test = testing_data[testing_data.Species == \"Iris-versicolor\"]\n",
        "predict(newdf['PetalWidthCm'],newdf['PetalLengthCm'])"
      ],
      "metadata": {
        "colab": {
          "base_uri": "https://localhost:8080/"
        },
        "id": "6uhlQMs1QE6m",
        "outputId": "ff289ce4-20a9-49a8-8f43-bab7d2b6e559"
      },
      "execution_count": 25,
      "outputs": [
        {
          "output_type": "stream",
          "name": "stdout",
          "text": [
            "91.61605143622316\n"
          ]
        }
      ]
    },
    {
      "cell_type": "markdown",
      "source": [
        "Training and testing the model and predicting the **Sepal length** using **Sepal width** of **versicolor Species**\n"
      ],
      "metadata": {
        "id": "RoNa9eTdULSC"
      }
    },
    {
      "cell_type": "code",
      "source": [
        "newdf = training_data[training_data.Species == \"Iris-versicolor\"]\n",
        "fit(newdf['SepalWidthCm'],newdf['SepalLengthCm'])\n",
        "\n",
        "newdf_test = testing_data[testing_data.Species == \"Iris-versicolor\"]\n",
        "predict(newdf['SepalWidthCm'],newdf['SepalLengthCm'])"
      ],
      "metadata": {
        "colab": {
          "base_uri": "https://localhost:8080/"
        },
        "id": "8g2G8QIMUIsl",
        "outputId": "61378ab1-1aaf-413a-c46e-cada995479b5"
      },
      "execution_count": 50,
      "outputs": [
        {
          "output_type": "stream",
          "name": "stdout",
          "text": [
            "80.9954273894957\n"
          ]
        }
      ]
    },
    {
      "cell_type": "markdown",
      "source": [
        "Training and testing the model and predicting the **Petal width** using **Petal length** of **virginica Species**"
      ],
      "metadata": {
        "id": "bqkcqdMzRSt3"
      }
    },
    {
      "cell_type": "code",
      "source": [
        "newdf = training_data[training_data.Species == \"Iris-virginica\"]\n",
        "fit(newdf['PetalLengthCm'],newdf['PetalWidthCm'])\n",
        "\n",
        "newdf_test = testing_data[testing_data.Species == \"Iris-virginica\"]\n",
        "predict(newdf['PetalLengthCm'],newdf['PetalWidthCm'])"
      ],
      "metadata": {
        "colab": {
          "base_uri": "https://localhost:8080/"
        },
        "id": "gZ0dzl3mRBA8",
        "outputId": "43f974c6-e372-47e2-cb39-2d3f3a71b6f6"
      },
      "execution_count": 48,
      "outputs": [
        {
          "output_type": "stream",
          "name": "stdout",
          "text": [
            "93.56655701043871\n"
          ]
        }
      ]
    },
    {
      "cell_type": "markdown",
      "source": [
        "Training and testing the model and predicting the **Sepal width** using **Sepal length** of **virginica Species**"
      ],
      "metadata": {
        "id": "NRADLi_gVKCg"
      }
    },
    {
      "cell_type": "code",
      "source": [
        "newdf = training_data[training_data.Species == \"Iris-virginica\"]\n",
        "fit(newdf['SepalLengthCm'],newdf['SepalWidthCm'])\n",
        "\n",
        "newdf_test = testing_data[testing_data.Species == \"Iris-virginica\"]\n",
        "predict(newdf['SepalLengthCm'],newdf['SepalWidthCm'])"
      ],
      "metadata": {
        "colab": {
          "base_uri": "https://localhost:8080/"
        },
        "id": "kZlljbg3U-Gn",
        "outputId": "f04679f0-79a1-4074-f233-ab62cf96dab9"
      },
      "execution_count": 53,
      "outputs": [
        {
          "output_type": "stream",
          "name": "stdout",
          "text": [
            "92.6852921150258\n"
          ]
        }
      ]
    }
  ]
}