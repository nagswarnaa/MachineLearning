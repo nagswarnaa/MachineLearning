{
  "nbformat": 4,
  "nbformat_minor": 0,
  "metadata": {
    "colab": {
      "provenance": [],
      "collapsed_sections": [],
      "authorship_tag": "ABX9TyPQWKcU49ZxBj/0JjECFUEp",
      "include_colab_link": true
    },
    "kernelspec": {
      "name": "python3",
      "display_name": "Python 3"
    },
    "language_info": {
      "name": "python"
    }
  },
  "cells": [
    {
      "cell_type": "markdown",
      "metadata": {
        "id": "view-in-github",
        "colab_type": "text"
      },
      "source": [
        "<a href=\"https://colab.research.google.com/github/nagswarnaa/MachineLearning/blob/main/LinearRegression.ipynb\" target=\"_parent\"><img src=\"https://colab.research.google.com/assets/colab-badge.svg\" alt=\"Open In Colab\"/></a>"
      ]
    },
    {
      "cell_type": "code",
      "execution_count": 1,
      "metadata": {
        "id": "qC5pucStYh8T"
      },
      "outputs": [],
      "source": [
        "import pandas as pd\n",
        "data=pd.read_csv(\"Iris.csv\")"
      ]
    },
    {
      "cell_type": "markdown",
      "source": [
        "Splitting the data into training and testing\n"
      ],
      "metadata": {
        "id": "AfBQeBGpPdu6"
      }
    },
    {
      "cell_type": "code",
      "source": [
        "training_data = data.sample(frac=0.9, random_state=25)\n",
        "testing_data = data.drop(training_data.index)\n",
        "m=0\n",
        "c=0\n",
        "m_reg=0\n",
        "c_reg=0"
      ],
      "metadata": {
        "id": "nNtyi549NZon"
      },
      "execution_count": 50,
      "outputs": []
    },
    {
      "cell_type": "markdown",
      "source": [
        "Defining fit and predict methods\n"
      ],
      "metadata": {
        "id": "DW1ideF4PlhW"
      }
    },
    {
      "cell_type": "code",
      "source": [
        "def fit(X,Y,reg):\n",
        "  n=len(X)\n",
        "  weights=[]\n",
        "  global m\n",
        "  global c\n",
        "  lmbda=0.4\n",
        "  m=0\n",
        "  c=0\n",
        "  global m_reg\n",
        "  global c_reg \n",
        "  m_reg=0\n",
        "  c_reg=0\n",
        "  learning_rate=0.01\n",
        "  if(reg==False):\n",
        "    i=0\n",
        "    while i < 100:\n",
        "      y_pred= m*X+c \n",
        "      cost=sum((Y-(m*X+c))**2)/len(X)\n",
        "      D_m = (-2/n) * sum(X * (Y - y_pred))  \n",
        "      D_c = (-2/n) * sum(Y - y_pred)  \n",
        "      m = m - learning_rate * D_m  \n",
        "      c = c - learning_rate * D_c\n",
        "      i=i+1\n",
        "      weights.append(D_m)\n",
        "  elif(reg==True):\n",
        "    i=0\n",
        "    while i < 100:\n",
        "      y_pred_reg=m_reg*X+c_reg\n",
        "      cost_reg=sum((Y-(m_reg*X+c_reg))**2)/len(X)+lmbda*(m_reg**2)\n",
        "      D_m_reg=(-2/n)*sum(X * (Y - y_pred_reg))+2*lmbda*m_reg\n",
        "      D_c_reg=(-2/n) * sum(Y - y_pred_reg)\n",
        "      m_reg = m_reg - learning_rate * D_m_reg  \n",
        "      c_reg = c_reg - learning_rate * D_c_reg\n",
        "      i=i+1\n",
        "      weights.append(D_m_reg)\n",
        "  return weights    \n",
        "\n",
        "def predict(X,Y,reg):\n",
        "    lmbda=0.4\n",
        "    if reg==False:\n",
        "      error=sum((Y-(m*X+c))**2)/len(X)\n",
        "      return 100-(error*100)\n",
        "    elif reg==True:\n",
        "      error_reg=sum((Y-(m_reg*X+c_reg))**2)/len(X)+lmbda*(m_reg**2)\n",
        "      return 100-(error_reg*100)  \n",
        "\n",
        "     \n",
        "    \n",
        "    "
      ],
      "metadata": {
        "id": "h9WbgXdINeev"
      },
      "execution_count": 87,
      "outputs": []
    },
    {
      "cell_type": "markdown",
      "source": [
        "Training and testing the model and predicting the **Petal width** using **Petal length** of **Setosa Species** **without Regularisation**\n"
      ],
      "metadata": {
        "id": "P052GltJPqEc"
      }
    },
    {
      "cell_type": "code",
      "source": [
        "\n",
        "newdf = training_data[training_data.Species == \"Iris-setosa\"]\n",
        "\n",
        "fit(newdf['PetalLengthCm'],newdf['PetalWidthCm'],False)\n",
        "newdf_test = testing_data[testing_data.Species == \"Iris-setosa\"]\n",
        "predict(newdf['PetalLengthCm'],newdf['PetalWidthCm'],False)"
      ],
      "metadata": {
        "colab": {
          "base_uri": "https://localhost:8080/"
        },
        "id": "Cniubgo8Niyb",
        "outputId": "87f38322-9fb8-43f4-e964-4eb361ded246"
      },
      "execution_count": 90,
      "outputs": [
        {
          "output_type": "execute_result",
          "data": {
            "text/plain": [
              "98.93330346378312"
            ]
          },
          "metadata": {},
          "execution_count": 90
        }
      ]
    },
    {
      "cell_type": "markdown",
      "source": [
        "Training and testing the model and predicting the **Petal width** using **Petal length** of **Setosa Species with Regularisation**"
      ],
      "metadata": {
        "id": "JYg1NLlTb3Hn"
      }
    },
    {
      "cell_type": "code",
      "source": [
        "newdf = training_data[training_data.Species == \"Iris-setosa\"]\n",
        "\n",
        "fit(newdf['PetalLengthCm'],newdf['PetalWidthCm'],True)\n",
        "newdf_test = testing_data[testing_data.Species == \"Iris-setosa\"]\n",
        "predict(newdf['PetalLengthCm'],newdf['PetalWidthCm'],True)"
      ],
      "metadata": {
        "colab": {
          "base_uri": "https://localhost:8080/"
        },
        "id": "sHLXkBg6b69W",
        "outputId": "5a0af173-da16-41cd-bb79-b3ac40da0b0d"
      },
      "execution_count": 75,
      "outputs": [
        {
          "output_type": "execute_result",
          "data": {
            "text/plain": [
              "98.58661773596434"
            ]
          },
          "metadata": {},
          "execution_count": 75
        }
      ]
    },
    {
      "cell_type": "markdown",
      "source": [
        "Training and testing the model and predicting the **Sepal width** using **Sepal length** of **Setosa Species** **without Regularisation**"
      ],
      "metadata": {
        "id": "suRnhaqxSSMl"
      }
    },
    {
      "cell_type": "code",
      "source": [
        "newdf = training_data[training_data.Species == \"Iris-setosa\"]\n",
        "fit(newdf['SepalLengthCm'],newdf['SepalWidthCm'],False)\n",
        "\n",
        "newdf_test = testing_data[testing_data.Species == \"Iris-setosa\"]\n",
        "predict(newdf['SepalLengthCm'],newdf['SepalWidthCm'],False)"
      ],
      "metadata": {
        "colab": {
          "base_uri": "https://localhost:8080/"
        },
        "id": "YYX-V5RjSNf0",
        "outputId": "a2724912-2a7b-4644-acff-3ce8105b8306"
      },
      "execution_count": 77,
      "outputs": [
        {
          "output_type": "execute_result",
          "data": {
            "text/plain": [
              "93.34442473274079"
            ]
          },
          "metadata": {},
          "execution_count": 77
        }
      ]
    },
    {
      "cell_type": "markdown",
      "source": [
        "Training and testing the model and predicting the **Sepal width** using **Sepal length** of **Setosa Species** **with Regularisation**"
      ],
      "metadata": {
        "id": "jeK4LkPtcP1U"
      }
    },
    {
      "cell_type": "code",
      "source": [
        "newdf = training_data[training_data.Species == \"Iris-setosa\"]\n",
        "fit(newdf['SepalLengthCm'],newdf['SepalWidthCm'],True)\n",
        "\n",
        "newdf_test = testing_data[testing_data.Species == \"Iris-setosa\"]\n",
        "predict(newdf['SepalLengthCm'],newdf['SepalWidthCm'],True)"
      ],
      "metadata": {
        "colab": {
          "base_uri": "https://localhost:8080/"
        },
        "id": "pOUSOBkocU25",
        "outputId": "bb58f83f-f066-4a4c-d981-7c63e99a2f7f"
      },
      "execution_count": 79,
      "outputs": [
        {
          "output_type": "execute_result",
          "data": {
            "text/plain": [
              "77.07348189964557"
            ]
          },
          "metadata": {},
          "execution_count": 79
        }
      ]
    },
    {
      "cell_type": "markdown",
      "source": [
        "Training and testing the model and predicting the **Petal length** using **Petal width** of **versicolor Species** **without Regularisation**"
      ],
      "metadata": {
        "id": "QtRkOX0qQI1j"
      }
    },
    {
      "cell_type": "code",
      "source": [
        "\n",
        "newdf = training_data[training_data.Species == \"Iris-versicolor\"]\n",
        "fit(newdf['PetalWidthCm'],newdf['PetalLengthCm'],False)\n",
        "\n",
        "newdf_test = testing_data[testing_data.Species == \"Iris-versicolor\"]\n",
        "predict(newdf['PetalWidthCm'],newdf['PetalLengthCm'],False)"
      ],
      "metadata": {
        "colab": {
          "base_uri": "https://localhost:8080/"
        },
        "id": "6uhlQMs1QE6m",
        "outputId": "2f496fd4-7ea4-45ee-a922-820ac7b1d22d"
      },
      "execution_count": 80,
      "outputs": [
        {
          "output_type": "execute_result",
          "data": {
            "text/plain": [
              "91.58682696829943"
            ]
          },
          "metadata": {},
          "execution_count": 80
        }
      ]
    },
    {
      "cell_type": "markdown",
      "source": [
        "Training and testing the model and predicting the **Petal length** using **Petal width** of **versicolor Species** **with Regularisation**\n"
      ],
      "metadata": {
        "id": "93_kCrJlcxLX"
      }
    },
    {
      "cell_type": "code",
      "source": [
        "newdf = training_data[training_data.Species == \"Iris-versicolor\"]\n",
        "fit(newdf['PetalWidthCm'],newdf['PetalLengthCm'],True)\n",
        "\n",
        "newdf_test = testing_data[testing_data.Species == \"Iris-versicolor\"]\n",
        "predict(newdf['PetalWidthCm'],newdf['PetalLengthCm'],True)"
      ],
      "metadata": {
        "colab": {
          "base_uri": "https://localhost:8080/"
        },
        "id": "PbzzNlYsc5pS",
        "outputId": "f881a742-11a6-4e0c-83b4-b48830702e8f"
      },
      "execution_count": 82,
      "outputs": [
        {
          "output_type": "execute_result",
          "data": {
            "text/plain": [
              "-10.111248213254513"
            ]
          },
          "metadata": {},
          "execution_count": 82
        }
      ]
    },
    {
      "cell_type": "markdown",
      "source": [
        "Training and testing the model and predicting the **Sepal length** using **Sepal width** of **versicolor Species** **without Regularisation**\n"
      ],
      "metadata": {
        "id": "RoNa9eTdULSC"
      }
    },
    {
      "cell_type": "code",
      "source": [
        "newdf = training_data[training_data.Species == \"Iris-versicolor\"]\n",
        "fit(newdf['SepalWidthCm'],newdf['SepalLengthCm'],False)\n",
        "\n",
        "newdf_test = testing_data[testing_data.Species == \"Iris-versicolor\"]\n",
        "predict(newdf['SepalWidthCm'],newdf['SepalLengthCm'],False)"
      ],
      "metadata": {
        "colab": {
          "base_uri": "https://localhost:8080/"
        },
        "id": "8g2G8QIMUIsl",
        "outputId": "f382eaf3-a1b1-4ee1-d485-58e50d5caba5"
      },
      "execution_count": 72,
      "outputs": [
        {
          "output_type": "execute_result",
          "data": {
            "text/plain": [
              "74.74273225811211"
            ]
          },
          "metadata": {},
          "execution_count": 72
        }
      ]
    },
    {
      "cell_type": "markdown",
      "source": [
        "Training and testing the model and predicting the **Sepal length** using **Sepal width** of **versicolor Species** **with Regularisation**"
      ],
      "metadata": {
        "id": "2cuWD5yydKRy"
      }
    },
    {
      "cell_type": "code",
      "source": [
        "newdf = training_data[training_data.Species == \"Iris-versicolor\"]\n",
        "fit(newdf['SepalWidthCm'],newdf['SepalLengthCm'],True)\n",
        "\n",
        "newdf_test = testing_data[testing_data.Species == \"Iris-versicolor\"]\n",
        "predict(newdf['SepalWidthCm'],newdf['SepalLengthCm'],True)"
      ],
      "metadata": {
        "colab": {
          "base_uri": "https://localhost:8080/"
        },
        "id": "6HLEcVVedRwR",
        "outputId": "3d92b57d-8579-4f0d-e11c-ee4facebc359"
      },
      "execution_count": 83,
      "outputs": [
        {
          "output_type": "execute_result",
          "data": {
            "text/plain": [
              "-38.17717242032782"
            ]
          },
          "metadata": {},
          "execution_count": 83
        }
      ]
    },
    {
      "cell_type": "markdown",
      "source": [
        "Training and testing the model and predicting the **Petal width** using **Petal length** of **virginica Species** **without Regularisation**"
      ],
      "metadata": {
        "id": "bqkcqdMzRSt3"
      }
    },
    {
      "cell_type": "code",
      "source": [
        "newdf = training_data[training_data.Species == \"Iris-virginica\"]\n",
        "fit(newdf['PetalLengthCm'],newdf['PetalWidthCm'],False)\n",
        "\n",
        "newdf_test = testing_data[testing_data.Species == \"Iris-virginica\"]\n",
        "predict(newdf['PetalLengthCm'],newdf['PetalWidthCm'],False)"
      ],
      "metadata": {
        "colab": {
          "base_uri": "https://localhost:8080/"
        },
        "id": "gZ0dzl3mRBA8",
        "outputId": "6785b9ee-d765-47ed-f7f2-c42f7172acbf"
      },
      "execution_count": 73,
      "outputs": [
        {
          "output_type": "execute_result",
          "data": {
            "text/plain": [
              "92.5399593930728"
            ]
          },
          "metadata": {},
          "execution_count": 73
        }
      ]
    },
    {
      "cell_type": "markdown",
      "source": [
        "Training and testing the model and predicting the **Petal width** using **Petal length** of **virginica Species** **with Regularisation**"
      ],
      "metadata": {
        "id": "R_jDTHO0dfBQ"
      }
    },
    {
      "cell_type": "code",
      "source": [
        "newdf = training_data[training_data.Species == \"Iris-virginica\"]\n",
        "fit(newdf['PetalLengthCm'],newdf['PetalWidthCm'],True)\n",
        "\n",
        "newdf_test = testing_data[testing_data.Species == \"Iris-virginica\"]\n",
        "predict(newdf['PetalLengthCm'],newdf['PetalWidthCm'],True)"
      ],
      "metadata": {
        "colab": {
          "base_uri": "https://localhost:8080/"
        },
        "id": "rx6Fa6yWdj5y",
        "outputId": "0e829360-56c1-453e-e5e7-75b96ae5b0d8"
      },
      "execution_count": 84,
      "outputs": [
        {
          "output_type": "execute_result",
          "data": {
            "text/plain": [
              "88.05649503756625"
            ]
          },
          "metadata": {},
          "execution_count": 84
        }
      ]
    },
    {
      "cell_type": "markdown",
      "source": [
        "Training and testing the model and predicting the **Sepal width** using **Sepal length** of **virginica Species** **without Regularisation**"
      ],
      "metadata": {
        "id": "NRADLi_gVKCg"
      }
    },
    {
      "cell_type": "code",
      "source": [
        "newdf = training_data[training_data.Species == \"Iris-virginica\"]\n",
        "fit(newdf['SepalLengthCm'],newdf['SepalWidthCm'],False)\n",
        "\n",
        "newdf_test = testing_data[testing_data.Species == \"Iris-virginica\"]\n",
        "predict(newdf['SepalLengthCm'],newdf['SepalWidthCm'],False)"
      ],
      "metadata": {
        "colab": {
          "base_uri": "https://localhost:8080/"
        },
        "id": "kZlljbg3U-Gn",
        "outputId": "effadaf1-eff1-4e75-a745-19054e71d303"
      },
      "execution_count": 74,
      "outputs": [
        {
          "output_type": "execute_result",
          "data": {
            "text/plain": [
              "91.53045524042756"
            ]
          },
          "metadata": {},
          "execution_count": 74
        }
      ]
    },
    {
      "cell_type": "markdown",
      "source": [
        "Training and testing the model and predicting the **Sepal width** using **Sepal length** of **virginica Species** **with Regularisation**\n"
      ],
      "metadata": {
        "id": "dsbvMzYudpnM"
      }
    },
    {
      "cell_type": "code",
      "source": [
        "newdf = training_data[training_data.Species == \"Iris-virginica\"]\n",
        "fit(newdf['SepalLengthCm'],newdf['SepalWidthCm'],True)\n",
        "\n",
        "newdf_test = testing_data[testing_data.Species == \"Iris-virginica\"]\n",
        "predict(newdf['SepalLengthCm'],newdf['SepalWidthCm'],True)"
      ],
      "metadata": {
        "colab": {
          "base_uri": "https://localhost:8080/"
        },
        "id": "7eUblwFzdu7W",
        "outputId": "7e6dcb65-eb65-4445-9afd-dcb91f5bfad8"
      },
      "execution_count": 85,
      "outputs": [
        {
          "output_type": "execute_result",
          "data": {
            "text/plain": [
              "84.36050568172755"
            ]
          },
          "metadata": {},
          "execution_count": 85
        }
      ]
    }
  ]
}